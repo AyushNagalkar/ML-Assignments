{
  "cells": [
    {
      "cell_type": "code",
      "execution_count": null,
      "id": "03d153a8",
      "metadata": {
        "_cell_guid": "b1076dfc-b9ad-4769-8c92-a6c4dae69d19",
        "_uuid": "8f2839f25d086af736a60e9eeb907d3b93b6e0e5",
        "execution": {
          "iopub.execute_input": "2022-11-12T15:00:14.227522Z",
          "iopub.status.busy": "2022-11-12T15:00:14.226973Z",
          "iopub.status.idle": "2022-11-12T15:00:15.449967Z",
          "shell.execute_reply": "2022-11-12T15:00:15.448793Z"
        },
        "id": "03d153a8",
        "papermill": {
          "duration": 1.236106,
          "end_time": "2022-11-12T15:00:15.452782",
          "exception": false,
          "start_time": "2022-11-12T15:00:14.216676",
          "status": "completed"
        },
        "tags": []
      },
      "outputs": [],
      "source": [
        "import numpy as np # linear algebra\n",
        "import pandas as pd # data processing, CSV file I/O (e.g. pd.read_csv)\n",
        "import seaborn as sns"
      ]
    },
    {
      "cell_type": "code",
      "execution_count": null,
      "id": "41d7b4c0",
      "metadata": {
        "execution": {
          "iopub.execute_input": "2022-11-12T15:00:15.472147Z",
          "iopub.status.busy": "2022-11-12T15:00:15.471703Z",
          "iopub.status.idle": "2022-11-12T15:00:15.816188Z",
          "shell.execute_reply": "2022-11-12T15:00:15.814665Z"
        },
        "id": "41d7b4c0",
        "papermill": {
          "duration": 0.357523,
          "end_time": "2022-11-12T15:00:15.818979",
          "exception": false,
          "start_time": "2022-11-12T15:00:15.461456",
          "status": "completed"
        },
        "tags": []
      },
      "outputs": [],
      "source": [
        "from sklearn.model_selection import train_test_split\n",
        "from sklearn.linear_model import LinearRegression\n",
        "import matplotlib.pyplot as plt\n",
        "# import matplotlib.pyplot as plt"
      ]
    },
    {
      "cell_type": "code",
      "execution_count": null,
      "id": "3c037b9b",
      "metadata": {
        "execution": {
          "iopub.execute_input": "2022-11-12T15:00:15.839622Z",
          "iopub.status.busy": "2022-11-12T15:00:15.839182Z",
          "iopub.status.idle": "2022-11-12T15:00:15.868957Z",
          "shell.execute_reply": "2022-11-12T15:00:15.867549Z"
        },
        "id": "3c037b9b",
        "papermill": {
          "duration": 0.043841,
          "end_time": "2022-11-12T15:00:15.871908",
          "exception": false,
          "start_time": "2022-11-12T15:00:15.828067",
          "status": "completed"
        },
        "tags": []
      },
      "outputs": [],
      "source": [
        "data = pd.read_csv(\"../input/temperatures-of-india/temperatures.csv\")\n",
        "df = data"
      ]
    },
    {
      "cell_type": "code",
      "execution_count": null,
      "id": "549ac9c5",
      "metadata": {
        "execution": {
          "iopub.execute_input": "2022-11-12T15:00:15.892747Z",
          "iopub.status.busy": "2022-11-12T15:00:15.892262Z",
          "iopub.status.idle": "2022-11-12T15:00:15.981785Z",
          "shell.execute_reply": "2022-11-12T15:00:15.980476Z"
        },
        "id": "549ac9c5",
        "outputId": "cba6cf3d-40ad-4bc1-ed30-491b6a1ef985",
        "papermill": {
          "duration": 0.101939,
          "end_time": "2022-11-12T15:00:15.984313",
          "exception": false,
          "start_time": "2022-11-12T15:00:15.882374",
          "status": "completed"
        },
        "tags": []
      },
      "outputs": [],
      "source": [
        "data.describe()"
      ]
    },
    {
      "cell_type": "code",
      "execution_count": null,
      "id": "54595e7f",
      "metadata": {
        "execution": {
          "iopub.execute_input": "2022-11-12T15:00:16.004427Z",
          "iopub.status.busy": "2022-11-12T15:00:16.003995Z",
          "iopub.status.idle": "2022-11-12T15:00:16.029426Z",
          "shell.execute_reply": "2022-11-12T15:00:16.028538Z"
        },
        "id": "54595e7f",
        "outputId": "baad9267-870a-44a9-a9cf-a30838e2b29c",
        "papermill": {
          "duration": 0.0384,
          "end_time": "2022-11-12T15:00:16.032024",
          "exception": false,
          "start_time": "2022-11-12T15:00:15.993624",
          "status": "completed"
        },
        "tags": []
      },
      "outputs": [],
      "source": [
        "data.head()"
      ]
    },
    {
      "cell_type": "code",
      "execution_count": null,
      "id": "d113bc78",
      "metadata": {
        "execution": {
          "iopub.execute_input": "2022-11-12T15:00:16.053745Z",
          "iopub.status.busy": "2022-11-12T15:00:16.052725Z",
          "iopub.status.idle": "2022-11-12T15:00:16.078656Z",
          "shell.execute_reply": "2022-11-12T15:00:16.077748Z"
        },
        "id": "d113bc78",
        "outputId": "0d3761b0-4ae0-4af9-a536-4fbde14e1bf7",
        "papermill": {
          "duration": 0.039399,
          "end_time": "2022-11-12T15:00:16.081229",
          "exception": false,
          "start_time": "2022-11-12T15:00:16.04183",
          "status": "completed"
        },
        "tags": []
      },
      "outputs": [],
      "source": [
        "data.tail()"
      ]
    },
    {
      "cell_type": "code",
      "execution_count": null,
      "id": "77f10480",
      "metadata": {
        "execution": {
          "iopub.execute_input": "2022-11-12T15:00:16.103531Z",
          "iopub.status.busy": "2022-11-12T15:00:16.102812Z",
          "iopub.status.idle": "2022-11-12T15:00:16.108604Z",
          "shell.execute_reply": "2022-11-12T15:00:16.107766Z"
        },
        "id": "77f10480",
        "outputId": "01d09664-5b99-43b7-d0e7-a95737042813",
        "papermill": {
          "duration": 0.019305,
          "end_time": "2022-11-12T15:00:16.110814",
          "exception": false,
          "start_time": "2022-11-12T15:00:16.091509",
          "status": "completed"
        },
        "tags": []
      },
      "outputs": [],
      "source": [
        "type(data)"
      ]
    },
    {
      "cell_type": "code",
      "execution_count": null,
      "id": "e07711ba",
      "metadata": {
        "execution": {
          "iopub.execute_input": "2022-11-12T15:00:16.133357Z",
          "iopub.status.busy": "2022-11-12T15:00:16.132692Z",
          "iopub.status.idle": "2022-11-12T15:00:16.138751Z",
          "shell.execute_reply": "2022-11-12T15:00:16.137853Z"
        },
        "id": "e07711ba",
        "outputId": "ea87f9c8-e90d-4994-b429-78e3ec4589e5",
        "papermill": {
          "duration": 0.02039,
          "end_time": "2022-11-12T15:00:16.141248",
          "exception": false,
          "start_time": "2022-11-12T15:00:16.120858",
          "status": "completed"
        },
        "tags": []
      },
      "outputs": [],
      "source": [
        "data.shape"
      ]
    },
    {
      "cell_type": "code",
      "execution_count": null,
      "id": "d03866fb",
      "metadata": {
        "execution": {
          "iopub.execute_input": "2022-11-12T15:00:16.164595Z",
          "iopub.status.busy": "2022-11-12T15:00:16.16389Z",
          "iopub.status.idle": "2022-11-12T15:00:16.181038Z",
          "shell.execute_reply": "2022-11-12T15:00:16.179731Z"
        },
        "id": "d03866fb",
        "outputId": "37696198-4b7c-487e-bc71-8bd77bf00b39",
        "papermill": {
          "duration": 0.032393,
          "end_time": "2022-11-12T15:00:16.18404",
          "exception": false,
          "start_time": "2022-11-12T15:00:16.151647",
          "status": "completed"
        },
        "tags": []
      },
      "outputs": [],
      "source": [
        "data.info()"
      ]
    },
    {
      "cell_type": "code",
      "execution_count": null,
      "id": "60120bb9",
      "metadata": {
        "execution": {
          "iopub.execute_input": "2022-11-12T15:00:16.20661Z",
          "iopub.status.busy": "2022-11-12T15:00:16.205581Z",
          "iopub.status.idle": "2022-11-12T15:00:16.212956Z",
          "shell.execute_reply": "2022-11-12T15:00:16.211668Z"
        },
        "id": "60120bb9",
        "outputId": "8e23e01c-436e-4d82-aa11-933582dbda1b",
        "papermill": {
          "duration": 0.021377,
          "end_time": "2022-11-12T15:00:16.215629",
          "exception": false,
          "start_time": "2022-11-12T15:00:16.194252",
          "status": "completed"
        },
        "tags": []
      },
      "outputs": [],
      "source": [
        "count = (data[\"JAN\"]==22).sum()\n",
        "print(count)"
      ]
    },
    {
      "cell_type": "code",
      "execution_count": null,
      "id": "85661daf",
      "metadata": {
        "execution": {
          "iopub.execute_input": "2022-11-12T15:00:16.237452Z",
          "iopub.status.busy": "2022-11-12T15:00:16.237028Z",
          "iopub.status.idle": "2022-11-12T15:00:16.249227Z",
          "shell.execute_reply": "2022-11-12T15:00:16.247933Z"
        },
        "id": "85661daf",
        "outputId": "06707904-22b0-4025-ce8b-263b2e22ee06",
        "papermill": {
          "duration": 0.026179,
          "end_time": "2022-11-12T15:00:16.251902",
          "exception": false,
          "start_time": "2022-11-12T15:00:16.225723",
          "status": "completed"
        },
        "tags": []
      },
      "outputs": [],
      "source": [
        "column = data\n",
        "count = column[column == 0].count()\n",
        "print(count)"
      ]
    },
    {
      "cell_type": "code",
      "execution_count": null,
      "id": "e30789f6",
      "metadata": {
        "execution": {
          "iopub.execute_input": "2022-11-12T15:00:16.275017Z",
          "iopub.status.busy": "2022-11-12T15:00:16.273807Z",
          "iopub.status.idle": "2022-11-12T15:00:16.284457Z",
          "shell.execute_reply": "2022-11-12T15:00:16.283074Z"
        },
        "id": "e30789f6",
        "outputId": "8be1410b-a38d-40e8-dbde-59b9275a5ce5",
        "papermill": {
          "duration": 0.024943,
          "end_time": "2022-11-12T15:00:16.287389",
          "exception": false,
          "start_time": "2022-11-12T15:00:16.262446",
          "status": "completed"
        },
        "tags": []
      },
      "outputs": [],
      "source": [
        "data.isnull().sum()"
      ]
    },
    {
      "cell_type": "code",
      "execution_count": null,
      "id": "8044e6d3",
      "metadata": {
        "execution": {
          "iopub.execute_input": "2022-11-12T15:00:16.310464Z",
          "iopub.status.busy": "2022-11-12T15:00:16.309876Z",
          "iopub.status.idle": "2022-11-12T15:00:16.332007Z",
          "shell.execute_reply": "2022-11-12T15:00:16.330663Z"
        },
        "id": "8044e6d3",
        "outputId": "f581a74d-27b7-4ad3-c00c-84b94f1c99ab",
        "papermill": {
          "duration": 0.037094,
          "end_time": "2022-11-12T15:00:16.334886",
          "exception": false,
          "start_time": "2022-11-12T15:00:16.297792",
          "status": "completed"
        },
        "tags": []
      },
      "outputs": [],
      "source": [
        "data.isnull().head()"
      ]
    },
    {
      "cell_type": "code",
      "execution_count": null,
      "id": "972118ee",
      "metadata": {
        "execution": {
          "iopub.execute_input": "2022-11-12T15:00:16.358891Z",
          "iopub.status.busy": "2022-11-12T15:00:16.358445Z",
          "iopub.status.idle": "2022-11-12T15:00:16.372426Z",
          "shell.execute_reply": "2022-11-12T15:00:16.370913Z"
        },
        "id": "972118ee",
        "outputId": "9a5c7b47-33a1-4c05-8d43-b8c759ee1f28",
        "papermill": {
          "duration": 0.028865,
          "end_time": "2022-11-12T15:00:16.374973",
          "exception": false,
          "start_time": "2022-11-12T15:00:16.346108",
          "status": "completed"
        },
        "tags": []
      },
      "outputs": [],
      "source": [
        "data.info()"
      ]
    },
    {
      "cell_type": "code",
      "execution_count": null,
      "id": "5ad8b97e",
      "metadata": {
        "execution": {
          "iopub.execute_input": "2022-11-12T15:00:16.398103Z",
          "iopub.status.busy": "2022-11-12T15:00:16.397679Z",
          "iopub.status.idle": "2022-11-12T15:00:16.425441Z",
          "shell.execute_reply": "2022-11-12T15:00:16.424111Z"
        },
        "id": "5ad8b97e",
        "outputId": "2fb8a07b-c58e-4e97-adfd-b1a15e961142",
        "papermill": {
          "duration": 0.042668,
          "end_time": "2022-11-12T15:00:16.428205",
          "exception": false,
          "start_time": "2022-11-12T15:00:16.385537",
          "status": "completed"
        },
        "tags": []
      },
      "outputs": [],
      "source": [
        "data.head()"
      ]
    },
    {
      "cell_type": "code",
      "execution_count": null,
      "id": "3551b4c1",
      "metadata": {
        "execution": {
          "iopub.execute_input": "2022-11-12T15:00:16.452246Z",
          "iopub.status.busy": "2022-11-12T15:00:16.451849Z",
          "iopub.status.idle": "2022-11-12T15:00:16.457092Z",
          "shell.execute_reply": "2022-11-12T15:00:16.455941Z"
        },
        "id": "3551b4c1",
        "papermill": {
          "duration": 0.020364,
          "end_time": "2022-11-12T15:00:16.459557",
          "exception": false,
          "start_time": "2022-11-12T15:00:16.439193",
          "status": "completed"
        },
        "tags": []
      },
      "outputs": [],
      "source": [
        "# x = data.iloc[:,1:6]\n",
        "# y = data.iloc[:,-1:]\n",
        "x = data[\"YEAR\"]\n",
        "y = data[\"ANNUAL\"]"
      ]
    },
    {
      "cell_type": "code",
      "execution_count": null,
      "id": "fd41cc60",
      "metadata": {
        "execution": {
          "iopub.execute_input": "2022-11-12T15:00:16.483367Z",
          "iopub.status.busy": "2022-11-12T15:00:16.482426Z",
          "iopub.status.idle": "2022-11-12T15:00:16.758269Z",
          "shell.execute_reply": "2022-11-12T15:00:16.756716Z"
        },
        "id": "fd41cc60",
        "outputId": "3847375d-dca3-468d-8094-3081f3e63284",
        "papermill": {
          "duration": 0.290404,
          "end_time": "2022-11-12T15:00:16.760992",
          "exception": false,
          "start_time": "2022-11-12T15:00:16.470588",
          "status": "completed"
        },
        "tags": []
      },
      "outputs": [],
      "source": [
        "plt.plot(x,y,'o')"
      ]
    },
    {
      "cell_type": "code",
      "execution_count": null,
      "id": "a8981b64",
      "metadata": {
        "execution": {
          "iopub.execute_input": "2022-11-12T15:00:16.787819Z",
          "iopub.status.busy": "2022-11-12T15:00:16.786734Z",
          "iopub.status.idle": "2022-11-12T15:00:17.060828Z",
          "shell.execute_reply": "2022-11-12T15:00:17.059617Z"
        },
        "id": "a8981b64",
        "outputId": "9232840a-95fd-4a00-8322-51c648e7fd05",
        "papermill": {
          "duration": 0.290524,
          "end_time": "2022-11-12T15:00:17.063985",
          "exception": false,
          "start_time": "2022-11-12T15:00:16.773461",
          "status": "completed"
        },
        "tags": []
      },
      "outputs": [],
      "source": [
        "sns.scatterplot(x=x,y=y,data=df)"
      ]
    },
    {
      "cell_type": "code",
      "execution_count": null,
      "id": "a694c98e",
      "metadata": {
        "execution": {
          "iopub.execute_input": "2022-11-12T15:00:17.090494Z",
          "iopub.status.busy": "2022-11-12T15:00:17.089421Z",
          "iopub.status.idle": "2022-11-12T15:00:17.098643Z",
          "shell.execute_reply": "2022-11-12T15:00:17.097247Z"
        },
        "id": "a694c98e",
        "outputId": "2c5c105c-1a81-47f4-877b-38ac57e0d294",
        "papermill": {
          "duration": 0.025222,
          "end_time": "2022-11-12T15:00:17.101386",
          "exception": false,
          "start_time": "2022-11-12T15:00:17.076164",
          "status": "completed"
        },
        "tags": []
      },
      "outputs": [],
      "source": [
        "type(x)"
      ]
    },
    {
      "cell_type": "code",
      "execution_count": null,
      "id": "9577a2bc",
      "metadata": {
        "execution": {
          "iopub.execute_input": "2022-11-12T15:00:17.126791Z",
          "iopub.status.busy": "2022-11-12T15:00:17.12636Z",
          "iopub.status.idle": "2022-11-12T15:00:17.134605Z",
          "shell.execute_reply": "2022-11-12T15:00:17.133249Z"
        },
        "id": "9577a2bc",
        "outputId": "f1f69b70-6246-425f-c2e1-1355cba077e7",
        "papermill": {
          "duration": 0.024412,
          "end_time": "2022-11-12T15:00:17.137601",
          "exception": false,
          "start_time": "2022-11-12T15:00:17.113189",
          "status": "completed"
        },
        "tags": []
      },
      "outputs": [],
      "source": [
        "x.shape"
      ]
    },
    {
      "cell_type": "code",
      "execution_count": null,
      "id": "d364c0af",
      "metadata": {
        "execution": {
          "iopub.execute_input": "2022-11-12T15:00:17.164387Z",
          "iopub.status.busy": "2022-11-12T15:00:17.163971Z",
          "iopub.status.idle": "2022-11-12T15:00:17.16942Z",
          "shell.execute_reply": "2022-11-12T15:00:17.167961Z"
        },
        "id": "d364c0af",
        "papermill": {
          "duration": 0.021892,
          "end_time": "2022-11-12T15:00:17.172013",
          "exception": false,
          "start_time": "2022-11-12T15:00:17.150121",
          "status": "completed"
        },
        "tags": []
      },
      "outputs": [],
      "source": [
        "x = x.values"
      ]
    },
    {
      "cell_type": "code",
      "execution_count": null,
      "id": "7c553ed0",
      "metadata": {
        "execution": {
          "iopub.execute_input": "2022-11-12T15:00:17.197935Z",
          "iopub.status.busy": "2022-11-12T15:00:17.197102Z",
          "iopub.status.idle": "2022-11-12T15:00:17.201668Z",
          "shell.execute_reply": "2022-11-12T15:00:17.2008Z"
        },
        "id": "7c553ed0",
        "papermill": {
          "duration": 0.020477,
          "end_time": "2022-11-12T15:00:17.20439",
          "exception": false,
          "start_time": "2022-11-12T15:00:17.183913",
          "status": "completed"
        },
        "tags": []
      },
      "outputs": [],
      "source": [
        "x = x.reshape(117,1)"
      ]
    },
    {
      "cell_type": "code",
      "execution_count": null,
      "id": "1a35864a",
      "metadata": {
        "execution": {
          "iopub.execute_input": "2022-11-12T15:00:17.232316Z",
          "iopub.status.busy": "2022-11-12T15:00:17.231858Z",
          "iopub.status.idle": "2022-11-12T15:00:17.239903Z",
          "shell.execute_reply": "2022-11-12T15:00:17.238065Z"
        },
        "id": "1a35864a",
        "outputId": "5e99f8f8-8950-45ee-f73e-eb58da4c210e",
        "papermill": {
          "duration": 0.024809,
          "end_time": "2022-11-12T15:00:17.242823",
          "exception": false,
          "start_time": "2022-11-12T15:00:17.218014",
          "status": "completed"
        },
        "tags": []
      },
      "outputs": [],
      "source": [
        "x.shape"
      ]
    },
    {
      "cell_type": "code",
      "execution_count": null,
      "id": "3cf0a0e1",
      "metadata": {
        "execution": {
          "iopub.execute_input": "2022-11-12T15:00:17.268666Z",
          "iopub.status.busy": "2022-11-12T15:00:17.268205Z",
          "iopub.status.idle": "2022-11-12T15:00:17.274558Z",
          "shell.execute_reply": "2022-11-12T15:00:17.273656Z"
        },
        "id": "3cf0a0e1",
        "outputId": "ec0d452c-1018-4dd2-d1d9-aded78a1b3d1",
        "papermill": {
          "duration": 0.021888,
          "end_time": "2022-11-12T15:00:17.276808",
          "exception": false,
          "start_time": "2022-11-12T15:00:17.25492",
          "status": "completed"
        },
        "tags": []
      },
      "outputs": [],
      "source": [
        "type(x)"
      ]
    },
    {
      "cell_type": "code",
      "execution_count": null,
      "id": "0ba3b014",
      "metadata": {
        "execution": {
          "iopub.execute_input": "2022-11-12T15:00:17.304283Z",
          "iopub.status.busy": "2022-11-12T15:00:17.303705Z",
          "iopub.status.idle": "2022-11-12T15:00:17.311202Z",
          "shell.execute_reply": "2022-11-12T15:00:17.309637Z"
        },
        "id": "0ba3b014",
        "outputId": "d19f44f9-f1a7-4003-cd89-c60592606b36",
        "papermill": {
          "duration": 0.024702,
          "end_time": "2022-11-12T15:00:17.313948",
          "exception": false,
          "start_time": "2022-11-12T15:00:17.289246",
          "status": "completed"
        },
        "tags": []
      },
      "outputs": [],
      "source": [
        "x_train, x_test, y_train, y_test = train_test_split(x, y,test_size=0.25)\n",
        "\n",
        "print(f\"x Training dataset: {x_train.shape}\")\n",
        "print(f\"y Training dataset: {y_train.shape}\")\n",
        "print(f\"x test dataset: {x_test.shape}\")\n",
        "print(f\"y test dataset: {y_test.shape}\")"
      ]
    },
    {
      "cell_type": "code",
      "execution_count": null,
      "id": "5200dd2f",
      "metadata": {
        "execution": {
          "iopub.execute_input": "2022-11-12T15:00:17.33978Z",
          "iopub.status.busy": "2022-11-12T15:00:17.339355Z",
          "iopub.status.idle": "2022-11-12T15:00:17.344729Z",
          "shell.execute_reply": "2022-11-12T15:00:17.343392Z"
        },
        "id": "5200dd2f",
        "papermill": {
          "duration": 0.021255,
          "end_time": "2022-11-12T15:00:17.34736",
          "exception": false,
          "start_time": "2022-11-12T15:00:17.326105",
          "status": "completed"
        },
        "tags": []
      },
      "outputs": [],
      "source": [
        "model = LinearRegression()"
      ]
    },
    {
      "cell_type": "code",
      "execution_count": null,
      "id": "28cbbb03",
      "metadata": {
        "execution": {
          "iopub.execute_input": "2022-11-12T15:00:17.373788Z",
          "iopub.status.busy": "2022-11-12T15:00:17.373352Z",
          "iopub.status.idle": "2022-11-12T15:00:17.398271Z",
          "shell.execute_reply": "2022-11-12T15:00:17.39696Z"
        },
        "id": "28cbbb03",
        "outputId": "ea13d8fa-4da1-442e-8025-2153f6d5b9c6",
        "papermill": {
          "duration": 0.0411,
          "end_time": "2022-11-12T15:00:17.40105",
          "exception": false,
          "start_time": "2022-11-12T15:00:17.35995",
          "status": "completed"
        },
        "tags": []
      },
      "outputs": [],
      "source": [
        "model.fit(x_train,y_train)"
      ]
    },
    {
      "cell_type": "code",
      "execution_count": null,
      "id": "b335dad6",
      "metadata": {
        "execution": {
          "iopub.execute_input": "2022-11-12T15:00:17.454805Z",
          "iopub.status.busy": "2022-11-12T15:00:17.454129Z",
          "iopub.status.idle": "2022-11-12T15:00:17.461435Z",
          "shell.execute_reply": "2022-11-12T15:00:17.460383Z"
        },
        "id": "b335dad6",
        "outputId": "1fb1dbfd-beb0-45ec-818b-14315da9ac20",
        "papermill": {
          "duration": 0.02405,
          "end_time": "2022-11-12T15:00:17.464081",
          "exception": false,
          "start_time": "2022-11-12T15:00:17.440031",
          "status": "completed"
        },
        "tags": []
      },
      "outputs": [],
      "source": [
        "model.coef_ #w"
      ]
    },
    {
      "cell_type": "code",
      "execution_count": null,
      "id": "a0bd3629",
      "metadata": {
        "execution": {
          "iopub.execute_input": "2022-11-12T15:00:17.492741Z",
          "iopub.status.busy": "2022-11-12T15:00:17.492063Z",
          "iopub.status.idle": "2022-11-12T15:00:17.49952Z",
          "shell.execute_reply": "2022-11-12T15:00:17.498091Z"
        },
        "id": "a0bd3629",
        "outputId": "4760aed6-032a-4eb2-f301-413293155ea0",
        "papermill": {
          "duration": 0.025516,
          "end_time": "2022-11-12T15:00:17.502375",
          "exception": false,
          "start_time": "2022-11-12T15:00:17.476859",
          "status": "completed"
        },
        "tags": []
      },
      "outputs": [],
      "source": [
        "model.intercept_ #b"
      ]
    },
    {
      "cell_type": "code",
      "execution_count": null,
      "id": "753c18f8",
      "metadata": {
        "execution": {
          "iopub.execute_input": "2022-11-12T15:00:17.529992Z",
          "iopub.status.busy": "2022-11-12T15:00:17.529532Z",
          "iopub.status.idle": "2022-11-12T15:00:17.535232Z",
          "shell.execute_reply": "2022-11-12T15:00:17.533665Z"
        },
        "id": "753c18f8",
        "papermill": {
          "duration": 0.022976,
          "end_time": "2022-11-12T15:00:17.537922",
          "exception": false,
          "start_time": "2022-11-12T15:00:17.514946",
          "status": "completed"
        },
        "tags": []
      },
      "outputs": [],
      "source": [
        "y_pred = model.predict(x_test)"
      ]
    },
    {
      "cell_type": "code",
      "execution_count": null,
      "id": "92e15b08",
      "metadata": {
        "execution": {
          "iopub.execute_input": "2022-11-12T15:00:17.565429Z",
          "iopub.status.busy": "2022-11-12T15:00:17.56502Z",
          "iopub.status.idle": "2022-11-12T15:00:17.572388Z",
          "shell.execute_reply": "2022-11-12T15:00:17.570955Z"
        },
        "id": "92e15b08",
        "outputId": "72828837-c04d-4b2f-9798-02b799c692b5",
        "papermill": {
          "duration": 0.024213,
          "end_time": "2022-11-12T15:00:17.574767",
          "exception": false,
          "start_time": "2022-11-12T15:00:17.550554",
          "status": "completed"
        },
        "tags": []
      },
      "outputs": [],
      "source": [
        "y_pred.shape"
      ]
    },
    {
      "cell_type": "code",
      "execution_count": null,
      "id": "f5d79979",
      "metadata": {
        "execution": {
          "iopub.execute_input": "2022-11-12T15:00:17.602164Z",
          "iopub.status.busy": "2022-11-12T15:00:17.601714Z",
          "iopub.status.idle": "2022-11-12T15:00:17.823261Z",
          "shell.execute_reply": "2022-11-12T15:00:17.822265Z"
        },
        "id": "f5d79979",
        "outputId": "bdfc89f2-4dfb-4d73-a240-0183bfa93cef",
        "papermill": {
          "duration": 0.237989,
          "end_time": "2022-11-12T15:00:17.825685",
          "exception": false,
          "start_time": "2022-11-12T15:00:17.587696",
          "status": "completed"
        },
        "tags": []
      },
      "outputs": [],
      "source": [
        "plt.scatter(x_train, y_train, color='blue')\n",
        "plt.plot(x_test, y_pred, color='red', linewidth=3)\n",
        "plt.title(\"Temperature vs Year\")\n",
        "plt.xlabel(\"Year\")\n",
        "plt.ylabel(\"Temperature\")\n",
        "plt.show()"
      ]
    },
    {
      "cell_type": "code",
      "execution_count": null,
      "id": "5cefa9ca",
      "metadata": {
        "execution": {
          "iopub.execute_input": "2022-11-12T15:00:17.853129Z",
          "iopub.status.busy": "2022-11-12T15:00:17.852707Z",
          "iopub.status.idle": "2022-11-12T15:00:18.187427Z",
          "shell.execute_reply": "2022-11-12T15:00:18.185781Z"
        },
        "id": "5cefa9ca",
        "outputId": "8675028d-742e-45f8-abe6-6dccc7a980ab",
        "papermill": {
          "duration": 0.352183,
          "end_time": "2022-11-12T15:00:18.190729",
          "exception": false,
          "start_time": "2022-11-12T15:00:17.838546",
          "status": "completed"
        },
        "tags": []
      },
      "outputs": [],
      "source": [
        "sns.regplot(data=df,x=x_train,y=y_train,)"
      ]
    },
    {
      "cell_type": "code",
      "execution_count": null,
      "id": "04850456",
      "metadata": {
        "execution": {
          "iopub.execute_input": "2022-11-12T15:00:18.219151Z",
          "iopub.status.busy": "2022-11-12T15:00:18.218719Z",
          "iopub.status.idle": "2022-11-12T15:00:18.228595Z",
          "shell.execute_reply": "2022-11-12T15:00:18.227063Z"
        },
        "id": "04850456",
        "outputId": "b322b4bb-3319-42bf-93a3-e4c77eb88f08",
        "papermill": {
          "duration": 0.027315,
          "end_time": "2022-11-12T15:00:18.231535",
          "exception": false,
          "start_time": "2022-11-12T15:00:18.20422",
          "status": "completed"
        },
        "tags": []
      },
      "outputs": [],
      "source": [
        "from sklearn.metrics import mean_absolute_error,mean_squared_error,r2_score\n",
        "print(f\"MSE:  {mean_squared_error(y_test,y_pred)}\")\n",
        "print(f\"MAE:  {mean_absolute_error(y_test,y_pred)}\")\n",
        "print(f\"R-Sqaure :  {r2_score(y_test,y_pred)}\")"
      ]
    },
    {
      "cell_type": "code",
      "execution_count": null,
      "id": "0bacf3be",
      "metadata": {
        "id": "0bacf3be",
        "papermill": {
          "duration": 0.013121,
          "end_time": "2022-11-12T15:00:18.259767",
          "exception": false,
          "start_time": "2022-11-12T15:00:18.246646",
          "status": "completed"
        },
        "tags": []
      },
      "outputs": [],
      "source": []
    }
  ],
  "metadata": {
    "colab": {
      "provenance": []
    },
    "kernelspec": {
      "display_name": "base",
      "language": "python",
      "name": "python3"
    },
    "language_info": {
      "codemirror_mode": {
        "name": "ipython",
        "version": 3
      },
      "file_extension": ".py",
      "mimetype": "text/x-python",
      "name": "python",
      "nbconvert_exporter": "python",
      "pygments_lexer": "ipython3",
      "version": "3.12.7"
    },
    "papermill": {
      "default_parameters": {},
      "duration": 14.997557,
      "end_time": "2022-11-12T15:00:19.097061",
      "environment_variables": {},
      "exception": null,
      "input_path": "__notebook__.ipynb",
      "output_path": "__notebook__.ipynb",
      "parameters": {},
      "start_time": "2022-11-12T15:00:04.099504",
      "version": "2.3.4"
    }
  },
  "nbformat": 4,
  "nbformat_minor": 5
}
